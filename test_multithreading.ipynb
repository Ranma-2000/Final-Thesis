{
 "cells": [
  {
   "cell_type": "code",
   "execution_count": 1,
   "metadata": {
    "collapsed": true
   },
   "outputs": [],
   "source": [
    "import os\n",
    "import glob\n",
    "\n",
    "import pandas as pd\n",
    "import wfdb as wf\n",
    "import numpy as np\n",
    "from scipy import signal\n",
    "import utils.mitdbread as dm\n",
    "from biosppy.signals import ecg  # R peaks detection algorithm 1\n",
    "from utils import *  # R peaks detection algorithm 2\n",
    "import matplotlib.pyplot as plt\n",
    "%matplotlib inline"
   ]
  },
  {
   "cell_type": "code",
   "execution_count": 2,
   "outputs": [
    {
     "name": "stdout",
     "output_type": "stream",
     "text": [
      "['data/mitdb\\\\100', 'data/mitdb\\\\101', 'data/mitdb\\\\102', 'data/mitdb\\\\103', 'data/mitdb\\\\104', 'data/mitdb\\\\105', 'data/mitdb\\\\106', 'data/mitdb\\\\107', 'data/mitdb\\\\108', 'data/mitdb\\\\109', 'data/mitdb\\\\111', 'data/mitdb\\\\112', 'data/mitdb\\\\113', 'data/mitdb\\\\114', 'data/mitdb\\\\115', 'data/mitdb\\\\116', 'data/mitdb\\\\117', 'data/mitdb\\\\118', 'data/mitdb\\\\119', 'data/mitdb\\\\121', 'data/mitdb\\\\122', 'data/mitdb\\\\123', 'data/mitdb\\\\124', 'data/mitdb\\\\200', 'data/mitdb\\\\201', 'data/mitdb\\\\202', 'data/mitdb\\\\203', 'data/mitdb\\\\205', 'data/mitdb\\\\207', 'data/mitdb\\\\208', 'data/mitdb\\\\209', 'data/mitdb\\\\210', 'data/mitdb\\\\212', 'data/mitdb\\\\213', 'data/mitdb\\\\214', 'data/mitdb\\\\215', 'data/mitdb\\\\217', 'data/mitdb\\\\219', 'data/mitdb\\\\220', 'data/mitdb\\\\221', 'data/mitdb\\\\222', 'data/mitdb\\\\223', 'data/mitdb\\\\228', 'data/mitdb\\\\230', 'data/mitdb\\\\231', 'data/mitdb\\\\232', 'data/mitdb\\\\233', 'data/mitdb\\\\234']\n"
     ]
    }
   ],
   "source": [
    "records = dm.get_records()\n",
    "print(records)"
   ],
   "metadata": {
    "collapsed": false
   }
  },
  {
   "cell_type": "code",
   "execution_count": 4,
   "outputs": [
    {
     "name": "stdout",
     "output_type": "stream",
     "text": [
      "(2270, 188)\n"
     ]
    }
   ],
   "source": [
    "data = np.loadtxt('data/extracted_data/mitdb/100_MLII.csv', delimiter=',')\n",
    "print(data.shape)"
   ],
   "metadata": {
    "collapsed": false
   }
  },
  {
   "cell_type": "code",
   "execution_count": 9,
   "outputs": [
    {
     "name": "stdout",
     "output_type": "stream",
     "text": [
      "[0.]\n",
      "0.01499176025390625\n"
     ]
    }
   ],
   "source": [
    "import xgboost as xgb\n",
    "import time\n",
    "from custom_threading import CustomThread as Thread\n",
    "\n",
    "\n",
    "def predict(beat_array):\n",
    "    test_beat = np.array(beat_array)[np.newaxis]\n",
    "    test_beat = np.transpose(test_beat).T\n",
    "    result = model.predict(test_beat)\n",
    "    return result\n",
    "\n",
    "\n",
    "model = xgb.XGBClassifier()\n",
    "model.load_model('xgb_ecg.model')\n",
    "\n",
    "beat0 = data[0][:-1]\n",
    "beat1 = data[1][:-1]\n",
    "beat2 = data[2][:-1]\n",
    "beat3 = data[3][:-1]\n",
    "\n",
    "start = time.time()\n",
    "\n",
    "t0 = Thread(target=predict, args=(beat0,))\n",
    "t1 = Thread(target=predict, args=(beat1,))\n",
    "t2 = Thread(target=predict, args=(beat2,))\n",
    "t3 = Thread(target=predict, args=(beat3,))\n",
    "\n",
    "t0.start()\n",
    "t1.start()\n",
    "t2.start()\n",
    "t3.start()\n",
    "\n",
    "t0.join()\n",
    "t1.join()\n",
    "t2.join()\n",
    "t3.join()\n",
    "\n",
    "end = time.time()\n",
    "\n",
    "print(t0._return)\n",
    "print(end-start)"
   ],
   "metadata": {
    "collapsed": false
   }
  },
  {
   "cell_type": "code",
   "execution_count": 6,
   "outputs": [
    {
     "name": "stdout",
     "output_type": "stream",
     "text": [
      "0.013990402221679688\n"
     ]
    }
   ],
   "source": [
    "import xgboost as xgb\n",
    "import time\n",
    "import threading\n",
    "\n",
    "model = xgb.XGBClassifier()\n",
    "model.load_model('xgb_ecg.model')\n",
    "\n",
    "start = time.time()\n",
    "\n",
    "for i in [0, 1, 2, 3]:\n",
    "    test_beat = np.array(data[i][:-1])[np.newaxis]\n",
    "    test_beat = np.transpose(test_beat).T\n",
    "    result = model.predict(test_beat)\n",
    "\n",
    "\n",
    "end = time.time()\n",
    "\n",
    "print(end-start)"
   ],
   "metadata": {
    "collapsed": false
   }
  }
 ],
 "metadata": {
  "kernelspec": {
   "display_name": "Python 3",
   "language": "python",
   "name": "python3"
  },
  "language_info": {
   "codemirror_mode": {
    "name": "ipython",
    "version": 2
   },
   "file_extension": ".py",
   "mimetype": "text/x-python",
   "name": "python",
   "nbconvert_exporter": "python",
   "pygments_lexer": "ipython2",
   "version": "2.7.6"
  }
 },
 "nbformat": 4,
 "nbformat_minor": 0
}
