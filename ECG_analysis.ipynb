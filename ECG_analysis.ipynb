{
 "cells": [
  {
   "cell_type": "markdown",
   "metadata": {},
   "source": [
    "# ECG analysis project\n",
    "### Author: Marian Petruk\n"
   ]
  },
  {
   "cell_type": "markdown",
   "metadata": {},
   "source": [
    "### Import libraries, modules"
   ]
  },
  {
   "cell_type": "code",
   "execution_count": null,
   "metadata": {},
   "outputs": [],
   "source": [
    "import numpy as np\n",
    "import matplotlib.pyplot as plt\n",
    "import matplotlib.image as mpimg\n",
    "import seaborn as sns\n",
    "import warnings\n",
    "\n",
    "from scipy.signal import butter, sosfilt, sosfilt_zi, sosfiltfilt, lfilter, lfilter_zi, filtfilt, sosfreqz, resample\n",
    "from utils import hamilton_detector, christov_detector, findpeaks, engzee_detector\n",
    "from ecg_detectors.ecgdetectors import Detectors, MWA, panPeakDetect, searchBack\n",
    "\n",
    "np.random.seed(256)\n",
    "sns.set()\n",
    "warnings.filterwarnings('ignore')"
   ]
  },
  {
   "cell_type": "markdown",
   "metadata": {},
   "source": [
    "### Traverse data directory"
   ]
  },
  {
   "cell_type": "code",
   "execution_count": null,
   "metadata": {},
   "outputs": [],
   "source": [
    "import os\n",
    "\n",
    "data_path = os.path.join(\"data\", \"Lviv-Biometric-Data-Set\")\n",
    "data_dirs = os.listdir(data_path)\n",
    "data_dirs.remove(\"LICENSE\")\n",
    "data_dirs.remove(\"README.md\")\n",
    "print(len(data_dirs), \"users = \", data_dirs)\n",
    "\n",
    "USERID = 1\n",
    "user_path = os.path.join(data_path, \"user\" + str(USERID))\n",
    "\n",
    "user_ecg = os.listdir(user_path)\n",
    "print(\"\\nuser\" + str(USERID), \"has\", len(user_ecg), \"ecg samples =\", user_ecg)"
   ]
  },
  {
   "cell_type": "markdown",
   "metadata": {},
   "source": [
    "### Load raw ECG signal"
   ]
  },
  {
   "cell_type": "code",
   "execution_count": null,
   "metadata": {},
   "outputs": [],
   "source": [
    "SAMPLEID = 0\n",
    "data = np.load(os.path.join(user_path, user_ecg[SAMPLEID]))\n",
    "print(type(data))\n",
    "print(data)\n",
    "print(data.shape)"
   ]
  },
  {
   "cell_type": "markdown",
   "metadata": {},
   "source": [
    "### Plot raw ecg sample"
   ]
  },
  {
   "cell_type": "code",
   "execution_count": null,
   "metadata": {},
   "outputs": [],
   "source": [
    "plt.figure(figsize=(20, 5))\n",
    "plt.ylabel(\"Amplitude (dB)\")\n",
    "fs = 200\n",
    "# Calculate time values in seconds\n",
    "times = np.arange(data.shape[0], dtype='float') / fs\n",
    "plt.plot(times, data)\n",
    "plt.xlabel(\"Time (s)\")\n",
    "plt.title(\"ECG sample raw data\")\n",
    "plt.show()"
   ]
  },
  {
   "cell_type": "markdown",
   "metadata": {},
   "source": [
    "### Filter the data from noice"
   ]
  },
  {
   "cell_type": "markdown",
   "metadata": {},
   "source": [
    "#### **Butterworth Bandpass filter**"
   ]
  },
  {
   "cell_type": "code",
   "execution_count": null,
   "metadata": {},
   "outputs": [],
   "source": [
    "def butter_bandpass(lowcut, highcut, fs, order=5):\n",
    "    nyq = 0.5 * fs\n",
    "    low = lowcut / nyq\n",
    "    high = highcut / nyq\n",
    "    sos = butter(order, [low, high], analog=False, btype=\"band\", output=\"sos\")\n",
    "    return sos\n",
    "\n",
    "\n",
    "def butter_bandpass_filter(data, lowcut, highcut, fs, order=5):\n",
    "    sos = butter_bandpass(lowcut, highcut, fs, order=order)\n",
    "    y = sosfilt(sos,\n",
    "                data)  # Filter data along one dimension using cascaded second-order sections. Using lfilter for each second-order section.\n",
    "    return y\n",
    "\n",
    "\n",
    "def butter_bandpass_filter_once(data, lowcut, highcut, fs, order=5):\n",
    "    sos = butter_bandpass(lowcut, highcut, fs, order=order)\n",
    "    # Apply the filter to data. Use lfilter_zi to choose the initial condition of the filter.\n",
    "    zi = sosfilt_zi(sos)\n",
    "    z, _ = sosfilt(sos, data, zi=zi * data[0])\n",
    "    return sos, z, zi\n",
    "\n",
    "\n",
    "def butter_bandpass_filter_again(sos, z, zi):\n",
    "    # Apply the filter again, to have a result filtered at an order the same as filtfilt.\n",
    "    z2, _ = sosfilt(sos, z, zi=zi * z[0])\n",
    "    return z2\n",
    "\n",
    "\n",
    "def butter_bandpass_forward_backward_filter(data, lowcut, highcut, fs, order=5):\n",
    "    sos = butter_bandpass(lowcut, highcut, fs, order=order)\n",
    "    y = sosfiltfilt(sos,\n",
    "                    data)  # Apply a digital filter forward and backward to a signal.This function applies a linear digital filter twice, once forward and once backwards. The combined filter has zero phase and a filter order twice that of the original.\n",
    "    return y"
   ]
  },
  {
   "cell_type": "code",
   "execution_count": null,
   "metadata": {},
   "outputs": [],
   "source": [
    "# Sample rate and desired cutoff frequencies (in Hz).\n",
    "x = data\n",
    "fs = 200  # corresponds to 60 beats per min (normal for human), assumed.\n",
    "lowcut = 0.05 * 3.3  # 9.9 beats per min\n",
    "highcut = 15  # 900 beats per min\n",
    "\n",
    "# Plot the frequency response for a few different orders.\n",
    "plt.figure(1, figsize=(20, 8))\n",
    "plt.clf()\n",
    "for order in [1, 2, 4, 6, 8]:\n",
    "    sos = butter_bandpass(lowcut, highcut, fs, order=order)\n",
    "    w, h = sosfreqz(sos, worN=2000)\n",
    "    plt.plot((fs * 0.5 / np.pi) * w, abs(h), label=\"order = %d\" % order)\n",
    "\n",
    "plt.plot([0, 0.5 * fs], [np.sqrt(0.5), np.sqrt(0.5)],\n",
    "         \"--\", label=\"sqrt(0.5)\")\n",
    "plt.xlabel(\"Frequency (Hz)\")\n",
    "plt.ylabel(\"Gain\")\n",
    "plt.title(\"Frequency response for a few different orders\")\n",
    "plt.grid(True)\n",
    "plt.legend(loc=\"best\")\n",
    "\n",
    "# Filter a noisy signal.\n",
    "\n",
    "\n",
    "# Calculate time values in seconds\n",
    "times = np.arange(x.shape[0], dtype='float') / fs\n",
    "\n",
    "plt.figure(2, figsize=(20, 8))\n",
    "plt.clf()\n",
    "plt.ylabel(\"Amplitude (dB)\")\n",
    "plt.xlabel(\"Time (s)\")\n",
    "plt.plot(times, x, \"g\", linewidth=0.5, label=\"Noisy signal\")\n",
    "plt.legend(loc=\"lower left\")\n",
    "plt.twinx()\n",
    "plt.plot(times, butter_bandpass_filter(x, lowcut, highcut, fs, order=4),\n",
    "         label=\"Filtered signal (%g Hz) using sosfilt (without initial conditions)\" % fs)\n",
    "y = butter_bandpass_forward_backward_filter(x, lowcut, highcut, fs, order=4)\n",
    "plt.plot(times, y, linewidth=2.5, label=\"Filtered signal (%g Hz) using sosfiltfilt\" % fs)\n",
    "\n",
    "# plt.twiny()\n",
    "# plt.plot(butter_bandpass_forward_backward_filter(data, 0.05, 15, 250, order=4), linewidth=2, label=\"Filtered signal (%g Hz) using sosfiltfilt\" % fs)\n",
    "\n",
    "\n",
    "plt.grid(True)\n",
    "plt.axis(\"tight\")\n",
    "plt.legend(loc=\"upper right\")\n",
    "\n",
    "plt.show()"
   ]
  },
  {
   "cell_type": "markdown",
   "metadata": {},
   "source": [
    "As we can see, it is better to use `scipy.signal.sosfiltfilt` instead of `sosfilt` to apply the Butterworth filter. `sosfiltfilt` is the forward-backward filter. It applies the filter twice, once forward and once backward, resulting in zero phase delay."
   ]
  },
  {
   "cell_type": "markdown",
   "metadata": {},
   "source": [
    "#### Illustration of a phase delay/shift"
   ]
  },
  {
   "cell_type": "markdown",
   "metadata": {},
   "source": [
    "Phase shift is any change that occurs in the phase of one quantity, or in the phase difference between two or more quantities. (c) Wikipedia \n",
    "<img width=\"300px\" src=\"images/Phase_shift.png\" alt=\"illustration of phase shift from wikipedia\">"
   ]
  },
  {
   "cell_type": "code",
   "execution_count": null,
   "metadata": {},
   "outputs": [],
   "source": [
    "x = data[:300]\n",
    "plt.figure(figsize=(20, 8))\n",
    "\n",
    "plt.ylabel(\"Amplitude (dB)\")\n",
    "# Calculate time values in seconds\n",
    "times = np.arange(x.shape[0], dtype='float') / fs\n",
    "plt.xlabel(\"Time (s)\")\n",
    "\n",
    "plt.plot(times, x, \"g\", linewidth=0.5, label=\"Noisy signal\")\n",
    "plt.legend(loc=\"lower left\")\n",
    "plt.twinx()\n",
    "plt.plot(times, butter_bandpass_filter(x, lowcut, highcut, fs, order=4),\n",
    "         label=\"Filtered signal (%g Hz) using sosfilt (without initial conditions)\" % fs)\n",
    "sos, z, zi = butter_bandpass_filter_once(x, lowcut, highcut, fs, order=5)\n",
    "plt.plot(times, z, \"r--\", label=\"Filtered signal (%g Hz) using sosfilt and sosfilt_zi (with initial conditions), once\" % fs)\n",
    "plt.plot(times, butter_bandpass_filter_again(sos, z, zi), \"r\",\n",
    "         label=\"Filtered signal (%g Hz) using sosfilt and sosfilt_zi (with initial conditions), twice\" % fs)\n",
    "plt.plot(times, butter_bandpass_forward_backward_filter(x, lowcut, highcut, fs, order=4), linewidth=3,\n",
    "         label=\"Filtered signal (%g Hz) using sosfiltfilt\" % fs)\n",
    "plt.grid(True)\n",
    "plt.axis(\"tight\")\n",
    "plt.legend(loc=\"upper right\")\n",
    "\n",
    "plt.show()"
   ]
  },
  {
   "cell_type": "markdown",
   "metadata": {},
   "source": [
    "We can see phase delay on filtered singal using `sosfilt` without initial conditions and on both stages of `sosfilt` with initial conditions (`sosfilt_zi`). However, `sosfiltfilt` - a forward-backward digital filter has **zero phase delay/shift**."
   ]
  },
  {
   "cell_type": "markdown",
   "metadata": {},
   "source": [
    "## QRS"
   ]
  },
  {
   "cell_type": "markdown",
   "metadata": {},
   "source": [
    "QRS detection is difficult, not only because of the physiological variability of the QRS complexes, but also because of the various types of noise that can be present in the ECG signal. Noise sources include muscle noise, artifacts due to electrode motion, power-line interference, baseline wander and T waves with high frequency characteristics similar to QRS complexes."
   ]
  },
  {
   "cell_type": "markdown",
   "metadata": {},
   "source": [
    "### Detect R-peaks"
   ]
  },
  {
   "cell_type": "markdown",
   "metadata": {},
   "source": [
    "#### Main detector that is used is pan-tompkins"
   ]
  },
  {
   "cell_type": "code",
   "execution_count": null,
   "metadata": {},
   "outputs": [],
   "source": [
    "def pan_tompkins_detector(raw_ecg, mwa, fs, N):\n",
    "   \n",
    "#     N = int(0.12 * fs)\n",
    "#     mwa = MWA(squared, N)\n",
    "#     mwa[:int(0.2 * fs)] = 0\n",
    "\n",
    "    N = int(N / 100 * fs)\n",
    "    mwa_peaks = panPeakDetect(mwa, fs)\n",
    "\n",
    "    r_peaks = searchBack(mwa_peaks, raw_ecg, N)\n",
    "\n",
    "    return r_peaks"
   ]
  },
  {
   "cell_type": "code",
   "execution_count": null,
   "metadata": {},
   "outputs": [],
   "source": [
    "# Derivative - provides QRS slope information.\n",
    "differentiated_ecg_measurements = np.ediff1d(y)\n",
    "\n",
    "# Squaring - intensifies values received in derivative. \n",
    "# This helps restrict false positives caused by T waves with higher than usual spectral energies..\n",
    "squared_ecg_measurements = differentiated_ecg_measurements ** 2\n",
    "\n",
    "# Moving-window integration.\n",
    "integration_window = 50  # Change proportionally when adjusting frequency (in samples)\n",
    "integrated_ecg_measurements = np.convolve(squared_ecg_measurements, np.ones(integration_window))\n",
    "\n",
    "# Fiducial mark - peak detection on integrated measurements.\n",
    "rpeaks = pan_tompkins_detector(data, integrated_ecg_measurements, fs, integration_window)\n",
    "print(rpeaks)"
   ]
  },
  {
   "cell_type": "code",
   "execution_count": null,
   "metadata": {},
   "outputs": [],
   "source": [
    "figsize = (20, 10)\n",
    "\n",
    "plt.figure(figsize=figsize)\n",
    "\n",
    "plt.subplot2grid((6, 2), (0, 0))\n",
    "# plt.subplot(621)\n",
    "# plt.figure(1, figsize=left_figsize)\n",
    "# plt.clf()\n",
    "plt.xticks([])\n",
    "plt.plot(data)\n",
    "plt.title(\"Raw ecg data\")\n",
    "plt.grid(True)\n",
    "# plt.show()\n",
    "\n",
    "# plt.figure(figsize=left_figsize)\n",
    "plt.subplot2grid((6, 2), (1, 0))\n",
    "# plt.subplot(622)\n",
    "# plt.clf()\n",
    "plt.xticks([])\n",
    "plt.plot(y)\n",
    "plt.title(\"Filtered ecg data\")\n",
    "plt.grid(True)\n",
    "# plt.show()\n",
    "\n",
    "# plt.figure(figsize=left_figsize)\n",
    "plt.subplot2grid((6, 2), (2, 0))\n",
    "# plt.subplot(623)\n",
    "# plt.clf()\n",
    "plt.xticks([])\n",
    "plt.plot(differentiated_ecg_measurements)\n",
    "plt.title(\"Differentiated ecg data\")\n",
    "plt.grid(True)\n",
    "# plt.show()\n",
    "\n",
    "# plt.figure(figsize=left_figsize)\n",
    "plt.subplot2grid((6, 2), (3, 0))\n",
    "# plt.subplot(624)\n",
    "# plt.clf()\n",
    "plt.xticks([])\n",
    "plt.plot(squared_ecg_measurements)\n",
    "plt.title(\"Squared ecg data\")\n",
    "plt.grid(True)\n",
    "# plt.show()\n",
    "\n",
    "# plt.figure(figsize=left_figsize)\n",
    "plt.subplot2grid((6, 2), (4, 0))\n",
    "# plt.subplot(625)\n",
    "# plt.clf()\n",
    "plt.xticks([])\n",
    "plt.plot(integrated_ecg_measurements)\n",
    "plt.title(\"Integrated ECG data\")\n",
    "plt.grid(True)\n",
    "# plt.show()\n",
    "\n",
    "\n",
    "ymin = np.min(data)\n",
    "ymax = np.max(data)\n",
    "alpha = 0.2 * (ymax - ymin)\n",
    "ymax += alpha\n",
    "ymin -= alpha\n",
    "\n",
    "# plt.figure(figsize=left_figsize)\n",
    "# plt.subplot(626)\n",
    "plt.subplot2grid((6, 2), (5, 0))\n",
    "# plt.clf()\n",
    "plt.ylabel(\"Amplitude (dB)\")\n",
    "# Calculate time values in seconds\n",
    "times = np.arange(data.shape[0], dtype='float') / fs\n",
    "plt.xlabel(\"Time (s)\")\n",
    "plt.plot(times, data)\n",
    "plt.vlines(rpeaks/fs, ymin, ymax,\n",
    "           color=\"r\",\n",
    "           linewidth=2,\n",
    "           label=\"R-peaks\")\n",
    "plt.title(\"Raw ecg data with pulse stream\")\n",
    "plt.grid(True)\n",
    "# plt.show()\n",
    "\n",
    "plt.subplot2grid((6, 2), (0, 1))\n",
    "pan_tompkins_fig1_a = mpimg.imread(\"images/a_original_signal.png\")\n",
    "plt.title(\"Original signal - from Pan, Tompkins et al.\")\n",
    "plt.axis(\"off\")\n",
    "plt.imshow(pan_tompkins_fig1_a)\n",
    "\n",
    "plt.subplot2grid((6, 2), (1, 1))\n",
    "pan_tompkins_fig1_b = mpimg.imread(\"images/b_output_of_bandpass_filter.png\")\n",
    "plt.title(\"Output of bandpass filter - from Pan, Tompkins et al.\")\n",
    "plt.axis(\"off\")\n",
    "plt.imshow(pan_tompkins_fig1_b)\n",
    "\n",
    "plt.subplot2grid((6, 2), (2, 1))\n",
    "pan_tompkins_fig1_c = mpimg.imread(\"images/c_ouput_of_differentiator.png\")\n",
    "plt.title(\"Output of differentiator - from Pan, Tompkins et al.\")\n",
    "plt.axis(\"off\")\n",
    "plt.imshow(pan_tompkins_fig1_c)\n",
    "\n",
    "plt.subplot2grid((6, 2), (3, 1))\n",
    "pan_tompkins_fig1_d = mpimg.imread(\"images/d_output_of_squaring_process.png\")\n",
    "plt.title(\"Output of Squaring process - from Pan, Tompkins et al.\")\n",
    "plt.axis(\"off\")\n",
    "plt.imshow(pan_tompkins_fig1_d)\n",
    "\n",
    "plt.subplot2grid((6, 2), (4, 1))\n",
    "pan_tompkins_fig1_e = mpimg.imread(\"images/e_results_of_moving_window_integration.png\")\n",
    "plt.title(\"Results of moving window integration - from Pan, Tompkins et al.\")\n",
    "plt.axis(\"off\")\n",
    "plt.imshow(pan_tompkins_fig1_e)\n",
    "\n",
    "plt.subplot2grid((6, 2), (5, 1))\n",
    "pan_tompkins_fig1_g = mpimg.imread(\"images/g_output_pulse_stream.png\")\n",
    "plt.title(\"Output pulse stream - from Pan, Tompkins et al.\")\n",
    "plt.axis(\"off\")\n",
    "plt.imshow(pan_tompkins_fig1_g)"
   ]
  },
  {
   "cell_type": "markdown",
   "metadata": {},
   "source": [
    "### Compare with other detectors"
   ]
  },
  {
   "cell_type": "code",
   "execution_count": null,
   "metadata": {},
   "outputs": [],
   "source": [
    "hamilton_rpeaks = hamilton_detector(data, fs, y)\n",
    "christov_rpeaks = christov_detector(fs, data)\n",
    "detected_peaks_indices = findpeaks(data=integrated_ecg_measurements, limit=0.35, spacing=100)\n",
    "engzee_rpeaks = engzee_detector(y, fs, data)\n",
    "# detected_peaks_values = integrated_ecg_measurements[detected_peaks_indices]\n",
    "\n",
    "\n",
    "# https://github.com/luishowell/ecg-detectors\n",
    "detectors = Detectors(fs)\n",
    "\n",
    "detectors_two_average_rpeaks = detectors.two_average_detector(data)\n",
    "# detectors_matched_filter_rpeaks = detectors.matched_filter_detector(data)\n",
    "detectors_swt_rpeaks = detectors.swt_detector(data)\n",
    "detectors_christov_rpeaks = detectors.christov_detector(data)\n",
    "detectors_hamilton_rpeaks = detectors.hamilton_detector(data)\n",
    "detector_engzee_rpeaks = detectors.engzee_detector(data)"
   ]
  },
  {
   "cell_type": "code",
   "execution_count": null,
   "metadata": {},
   "outputs": [],
   "source": [
    "figsize = (20, 10)\n",
    "\n",
    "plt.figure(figsize=figsize)\n",
    "\n",
    "ymin = np.min(data)\n",
    "ymax = np.max(data)\n",
    "alpha = 0.2 * (ymax - ymin)\n",
    "ymax += alpha\n",
    "ymin -= alpha\n",
    "\n",
    "grid = (8, 2)\n",
    "\n",
    "index = 0\n",
    "\n",
    "plt.subplot2grid(grid, (index, 0), colspan=2)\n",
    "plt.xticks([])\n",
    "plt.plot(data)\n",
    "plt.vlines(rpeaks, ymin, ymax,\n",
    "           color=\"r\",\n",
    "           linewidth=2)\n",
    "plt.title(\"R-peaks by Pan Tomkins with custom filter\")\n",
    "plt.grid(True)\n",
    "\n",
    "index += 1\n",
    "\n",
    "plt.subplot2grid(grid, (index, 0), colspan=2)\n",
    "plt.xticks([])\n",
    "plt.plot(data)\n",
    "plt.vlines(detected_peaks_indices, ymin, ymax,\n",
    "           color=\"r\",\n",
    "           linewidth=2)\n",
    "plt.title(\"R-peaks by Janko Slavic with custom filter\")\n",
    "plt.grid(True)\n",
    "\n",
    "index += 1\n",
    "\n",
    "plt.subplot2grid(grid, (index, 0), colspan=2)\n",
    "plt.xticks([])\n",
    "plt.plot(data)\n",
    "plt.vlines(detectors_two_average_rpeaks, ymin, ymax,\n",
    "           color=\"r\",\n",
    "           linewidth=2)\n",
    "plt.title(\"R-peaks by Two average with default filter\")\n",
    "plt.grid(True)\n",
    "\n",
    "# index += 1\n",
    "\n",
    "# plt.subplot2grid(grid, (index, 0), colspan = 2)\n",
    "# plt.xticks([])\n",
    "# plt.plot(data)\n",
    "# plt.vlines(detectors_matched_filter_rpeaks, ymin, ymax,\n",
    "#                color=\"r\",\n",
    "#                linewidth=2)\n",
    "# plt.title(\"R-peaks by Matched filter detector with default filter\")\n",
    "# plt.grid(True)\n",
    "\n",
    "\n",
    "index += 1\n",
    "\n",
    "plt.subplot2grid(grid, (index, 0), colspan=2)\n",
    "plt.xticks([])\n",
    "plt.plot(data)\n",
    "plt.vlines(detectors_swt_rpeaks, ymin, ymax,\n",
    "           color=\"r\",\n",
    "           linewidth=2)\n",
    "plt.title(\"R-peaks by SWT detector with default filter\")\n",
    "plt.grid(True)\n",
    "\n",
    "index += 1\n",
    "\n",
    "plt.subplot2grid(grid, (index, 0))\n",
    "plt.plot(data)\n",
    "plt.xticks([])\n",
    "plt.vlines(hamilton_rpeaks, ymin, ymax,\n",
    "           color=\"r\",\n",
    "           linewidth=2)\n",
    "plt.title(\"R-peaks by Hamilton with custom filter\")\n",
    "plt.grid(True)\n",
    "\n",
    "plt.subplot2grid(grid, (index, 1))\n",
    "plt.plot(data)\n",
    "plt.xticks([])\n",
    "plt.vlines(detectors_hamilton_rpeaks, ymin, ymax,\n",
    "           color=\"r\",\n",
    "           linewidth=2)\n",
    "plt.title(\"R-peaks by Hamilton with default filter\")\n",
    "plt.grid(True)\n",
    "\n",
    "index += 1\n",
    "\n",
    "plt.subplot2grid(grid, (index, 0))\n",
    "plt.plot(data)\n",
    "plt.xticks([])\n",
    "plt.vlines(engzee_rpeaks, ymin, ymax,\n",
    "           color=\"r\",\n",
    "           linewidth=2)\n",
    "plt.title(\"R-peaks by Engzee with custom filter\")\n",
    "plt.grid(True)\n",
    "\n",
    "plt.subplot2grid(grid, (index, 1))\n",
    "plt.plot(data)\n",
    "plt.xticks([])\n",
    "plt.vlines(detector_engzee_rpeaks, ymin, ymax,\n",
    "           color=\"r\",\n",
    "           linewidth=2)\n",
    "plt.title(\"R-peaks by Engzee with default filter\")\n",
    "plt.grid(True)\n",
    "\n",
    "index += 1\n",
    "\n",
    "plt.subplot2grid(grid, (index, 0))\n",
    "# Calculate time values in seconds\n",
    "times = np.arange(data.shape[0], dtype='float') / fs\n",
    "plt.xlabel(\"Time (s)\")\n",
    "plt.plot(times, data)\n",
    "plt.vlines([r / fs for r in christov_rpeaks], ymin, ymax,\n",
    "           color=\"r\",\n",
    "           linewidth=2)\n",
    "plt.title(\"R-peaks by Christov with custom filter\")\n",
    "plt.grid(True)\n",
    "\n",
    "plt.subplot2grid(grid, (index, 1))\n",
    "# Calculate time values in seconds\n",
    "times = np.arange(data.shape[0], dtype='float') / fs\n",
    "plt.xlabel(\"Time (s)\")\n",
    "plt.plot(times, data)\n",
    "plt.vlines([r / fs for r in detectors_christov_rpeaks], ymin, ymax,\n",
    "           color=\"r\",\n",
    "           linewidth=2)\n",
    "plt.title(\"R-peaks by Christov with default filter\")\n",
    "plt.grid(True)"
   ]
  },
  {
   "cell_type": "markdown",
   "metadata": {},
   "source": [
    "### RR-intervals (aka NN-intervals)"
   ]
  },
  {
   "cell_type": "markdown",
   "metadata": {},
   "source": [
    "The term **`NN`** is used in place of **RR** to emphasize the fact that the processed beats are \"normal\" beats. (с) Wikipedia"
   ]
  },
  {
   "cell_type": "markdown",
   "metadata": {},
   "source": [
    "Heart rate variability (HRV) is the physiological phenomenon of variation in the time interval between heartbeats. It is measured by the variation in the beat-to-beat interval."
   ]
  },
  {
   "cell_type": "code",
   "execution_count": null,
   "metadata": {},
   "outputs": [],
   "source": [
    "# rr = []\n",
    "# i = 1\n",
    "# while i < len(rpeaks):\n",
    "#     rr.append(rpeaks[i] - rpeaks[i-1])\n",
    "#     i = i + 1\n",
    "# print(rr)\n",
    "rr = np.diff(rpeaks) / fs * 1000  # in miliseconds\n",
    "hr = 60 * 1000 / rr\n",
    "print(\"rr =\", rr)\n",
    "print(\"hr =\", hr)"
   ]
  },
  {
   "cell_type": "markdown",
   "metadata": {},
   "source": [
    "### HRV features\n",
    "#### Time-domain methods"
   ]
  },
  {
   "cell_type": "code",
   "execution_count": null,
   "metadata": {},
   "outputs": [],
   "source": [
    "# RMSSD (\"root mean square of successive differences\"), the square root of the mean of the squares of the successive differences between adjacent NNs.\n",
    "rmssd = np.sqrt(np.mean(np.square(np.diff(rr))))\n",
    "print(\"RMSSD =\", round(rmssd, 3))\n",
    "\n",
    "# Mean RR\n",
    "mean_rr = np.mean(rr)\n",
    "\n",
    "# SDNN, the standard deviation of NN intervals. Often calculated over a 24-hour period.\n",
    "# SDANN, the standard deviation of the average NN intervals calculated over short periods, usually 5 minutes.\n",
    "# SDNN is therefore a measure of changes in heart rate due to cycles longer than 5 minutes.\n",
    "# SDNN reflects all the cyclic components responsible for variability in the period of recording,\n",
    "# therefore it represents total variability.\n",
    "sdnn = np.std(rr)\n",
    "# print(\"SDNN =\", round(sdnn, 3), \"\\n\")\n",
    "\n",
    "print(\"Mean RR =\", round(mean_rr, 3), \"±\", round(sdnn, 3))\n",
    "\n",
    "# Mean HR\n",
    "mean_hr = np.mean(hr)\n",
    "\n",
    "# STD HR\n",
    "std_hr = np.std(hr)\n",
    "print(\"\\nMean HR =\", round(mean_hr, 3), \"±\", round(std_hr, 3))\n",
    "# print(\"std_hr =\", round(std_hr, 3))\n",
    "\n",
    "# Min HR\n",
    "min_hr = np.min(hr)\n",
    "print(\"min_hr =\", round(min_hr, 3))\n",
    "\n",
    "# Max HR\n",
    "max_hr = np.max(hr)\n",
    "print(\"max_hr =\", round(max_hr, 3), \"\\n\")\n",
    "\n",
    "# NNxx: sum absolute differences that are larger than 50ms\n",
    "nnxx = np.sum(np.abs(np.diff(rr)) > 50) * 1\n",
    "print(\"NNxx =\", nnxx)\n",
    "\n",
    "# pNNx: fraction of nnxx of all rr-intervals\n",
    "pnnx = 100 * nnxx / len(rr)\n",
    "print(\"pNNx =\", round(pnnx, 3))"
   ]
  },
  {
   "cell_type": "markdown",
   "metadata": {},
   "source": [
    "## Comparison with different libraries"
   ]
  },
  {
   "cell_type": "markdown",
   "metadata": {},
   "source": [
    "#### [biosppy](https://biosppy.readthedocs.io/)"
   ]
  },
  {
   "cell_type": "code",
   "execution_count": null,
   "metadata": {},
   "outputs": [],
   "source": [
    "from biosppy.signals import ecg\n",
    "from biosppy.plotting import plot_filter, plot_ecg"
   ]
  },
  {
   "cell_type": "code",
   "execution_count": null,
   "metadata": {},
   "outputs": [],
   "source": [
    "out = ecg.ecg(signal=data, sampling_rate=fs, show=False)\n",
    "# \"\"\"\n",
    "# Returns:\n",
    "\n",
    "#     ts (array) – Signal time axis reference (seconds).\n",
    "#     filtered (array) – Filtered ECG signal.\n",
    "#     rpeaks (array) – R-peak location indices.\n",
    "#     templates_ts (array) – Templates time axis reference (seconds).\n",
    "#     templates (array) – Extracted heartbeat templates.\n",
    "#     heart_rate_ts (array) – Heart rate time axis reference (seconds).\n",
    "#     heart_rate (array) – Instantaneous heart rate (bpm).\n",
    "# \"\"\"\n",
    "plot_ecg(ts=out[0],\n",
    "         raw=data,\n",
    "         filtered=out[1],\n",
    "         rpeaks=out[2],\n",
    "         templates_ts=out[3],\n",
    "         templates=out[4],\n",
    "         heart_rate_ts=out[5],\n",
    "         heart_rate=out[6],\n",
    "         show=True, path=\"biosppy\")"
   ]
  },
  {
   "cell_type": "code",
   "execution_count": null,
   "metadata": {},
   "outputs": [],
   "source": [
    "print(\"Mean HR by biosppy = \", round(np.mean(out[6]), 3), \"±\", round(np.std(out[6]), 3))\n",
    "rr = np.diff(out[2]) / fs * 1000 # in miliseconds\n",
    "print(\"Mean RR by biosppy =\", round(np.mean(rr), 3), \"±\", round(np.std(rr), 3))"
   ]
  },
  {
   "cell_type": "markdown",
   "metadata": {},
   "source": [
    "#### [pyhrv](https://pyhrv.readthedocs.io)"
   ]
  },
  {
   "cell_type": "code",
   "execution_count": null,
   "metadata": {},
   "outputs": [],
   "source": [
    "import pyhrv.tools as tools\n",
    "from pyhrv import hrv"
   ]
  },
  {
   "cell_type": "code",
   "execution_count": null,
   "metadata": {},
   "outputs": [],
   "source": [
    "signal, rpeaks = out[1:3]\n",
    "\n",
    "r_peaks = [int(val) for val in rpeaks]\n",
    "# Compute NNI (NN intervals)\n",
    "nni = tools.nn_intervals(r_peaks)\n",
    "print(\"Mean RR by pyhrv =\", round(np.mean(nni / fs * 1000), 3), \"±\", round(np.std(nni / fs * 1000), 3))"
   ]
  },
  {
   "cell_type": "code",
   "execution_count": null,
   "metadata": {},
   "outputs": [],
   "source": [
    "tools.plot_ecg(signal=data, t=out[0], sampling_rate=fs, rpeaks=True, figsize=None, title=None, show=True)"
   ]
  },
  {
   "cell_type": "markdown",
   "metadata": {},
   "source": [
    "`pyhrv` is using `biosppy` methods, that is why the results are the same."
   ]
  }
 ],
 "metadata": {
  "kernelspec": {
   "display_name": "Python [conda env:data_processing]",
   "language": "python",
   "name": "conda-env-data_processing-py"
  },
  "language_info": {
   "codemirror_mode": {
    "name": "ipython",
    "version": 3
   },
   "file_extension": ".py",
   "mimetype": "text/x-python",
   "name": "python",
   "nbconvert_exporter": "python",
   "pygments_lexer": "ipython3",
   "version": "3.7.2"
  }
 },
 "nbformat": 4,
 "nbformat_minor": 2
}
